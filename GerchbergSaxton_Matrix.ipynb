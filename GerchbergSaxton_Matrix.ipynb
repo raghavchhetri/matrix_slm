{
 "cells": [
  {
   "cell_type": "markdown",
   "metadata": {},
   "source": [
    "## <code>GerchbergSaxton_Matrix.ipynb </code> \n",
    "    - 03-30-2022\n",
    "    - Author: Raghav K. Chhetri\n",
    "    - Phase Retrievel via Gerchberg-Saxton algorithm to generate phase masks for an SLM \n",
    "    - Using \"LightPipes for Python\""
   ]
  },
  {
   "cell_type": "code",
   "execution_count": 1,
   "metadata": {},
   "outputs": [],
   "source": [
    "#from matrixSLM import target_pattern, generate_mask\n",
    "from LightPipes import LPtest, nm, um, mm, Intensity\n",
    "import matplotlib\n",
    "%matplotlib inline\n",
    "import pylab as plt\n",
    "import sys\n",
    "import os"
   ]
  },
  {
   "cell_type": "code",
   "execution_count": 2,
   "metadata": {},
   "outputs": [
    {
     "name": "stdout",
     "output_type": "stream",
     "text": [
      "cwd: C:\\Users\\Raghav\\Dropbox (HHMI)\\Tricks.of.the.trade\\Python\\python_scripts\\matrix_slm\n",
      "Environment: C:\\Users\\Raghav\\anaconda3\\envs\\matrix\n",
      "Executable: C:\\Users\\Raghav\\anaconda3\\envs\\matrix\\python.exe\n",
      "Python version: 3.9.7 (default, Sep 16 2021, 16:59:28) [MSC v.1916 64 bit (AMD64)]\n",
      "Matplotlib 3.5.0\n",
      "LightPipes for Python: test passed.\n",
      "LightPipes version: 2.1.2\n"
     ]
    }
   ],
   "source": [
    "cwd = os.getcwd()\n",
    "print('cwd: {}'.format(cwd))\n",
    "print('Environment: {}'.format(sys.exec_prefix))\n",
    "print('Executable: {}'.format(sys.executable))\n",
    "print('Python version: {}'.format(sys.version))\n",
    "print('Matplotlib', matplotlib.__version__)\n",
    "LPtest()"
   ]
  },
  {
   "cell_type": "code",
   "execution_count": 3,
   "metadata": {},
   "outputs": [
    {
     "name": "stdout",
     "output_type": "stream",
     "text": [
      "Invoking __init__.py for matrixpack\n"
     ]
    }
   ],
   "source": [
    "from matrixpack import target_pattern, generate_mask"
   ]
  },
  {
   "cell_type": "markdown",
   "metadata": {},
   "source": [
    "#### Constant Optical System Parameters"
   ]
  },
  {
   "cell_type": "code",
   "execution_count": 4,
   "metadata": {},
   "outputs": [],
   "source": [
    "#Spatial offset of beams in sample plane\n",
    "dx  = 75*um \n",
    "dz = 70*um \n",
    "\n",
    "#Magnification from sample to Apodizing Mask\n",
    "MagAM = 6\n",
    "\n",
    "fSLM = 750*mm\n",
    "SLMpixel = 9.2*um\n",
    "SLMheight = 1920\n",
    "SLMwidth = 1152\n",
    "\n",
    " #1/e diameter on the SLM = 1.2 x FWHM_width\n",
    "beamD = 1.2*9*mm"
   ]
  },
  {
   "cell_type": "markdown",
   "metadata": {},
   "source": [
    "---\n",
    "### Computation \n",
    "1. Define target pattern \n",
    "2. Compute phase mask to generate the above target pattern when applied to an SLM"
   ]
  },
  {
   "cell_type": "code",
   "execution_count": null,
   "metadata": {},
   "outputs": [
    {
     "name": "stdout",
     "output_type": "stream",
     "text": [
      "Pixels in the grid: 6650\n",
      "Pixels along SLM height: 1920\n",
      "SLM sufficiently sampled: PROCEED.\n"
     ]
    }
   ],
   "source": [
    "wavelength = 488*nm\n",
    "[SLMfield, target, movetag] = target_pattern(wavelength,beamD,\n",
    "                                    fSLM,SLMpixel,SLMwidth,SLMheight,\n",
    "                                    dx,dz,MagAM,\n",
    "                                    tag='MATRIX',\n",
    "                                    movebeams_um=[0,0,0,0,0,0,0,0,0])"
   ]
  },
  {
   "cell_type": "code",
   "execution_count": null,
   "metadata": {},
   "outputs": [],
   "source": [
    "#Plot field intensities\n",
    "ISLM = Intensity(SLMfield)\n",
    "high= 1000\n",
    "hoff= 100\n",
    "wide= 600\n",
    "woff= 300\n",
    "top= len(target)//2 - high//2 + hoff\n",
    "bottom= len(target)//2 + high//2 - hoff\n",
    "left= len(target)//2 - wide//2 \n",
    "right= len(target)//2 + wide//2 - woff\n",
    "\n",
    "plt.figure(figsize=(17,17))\n",
    "plt.subplot(1,2,1)\n",
    "plt.title('Intensity (at SLM)')\n",
    "plt.imshow(ISLM,cmap='jet')\n",
    "plt.subplot(1,2,2)\n",
    "plt.title('Intensity (at target)')\n",
    "plt.imshow(target[top:bottom,left:right], cmap='gray')\n",
    "plt.show()"
   ]
  },
  {
   "cell_type": "code",
   "execution_count": null,
   "metadata": {},
   "outputs": [],
   "source": [
    "generate_mask(wavelength, SLMfield, target, \n",
    "              SLMwidth, SLMheight, \n",
    "              outPath = cwd, footer = movetag, \n",
    "              Niter = 12, tag = 'MATRIX')"
   ]
  },
  {
   "cell_type": "code",
   "execution_count": null,
   "metadata": {},
   "outputs": [],
   "source": [
    "wavelength = 488*nm\n",
    "\n",
    "[SLMfield, target, movetag] = target_pattern(wavelength,beamD,\n",
    "                                    fSLM,SLMpixel,SLMwidth,SLMheight,\n",
    "                                    dx,dz,MagAM,\n",
    "                                    tag='MATRIX',\n",
    "                                    movebeams_um=[3,3,3,\n",
    "                                                  0,0,0,\n",
    "                                                  -3,-3,-3])\n",
    "\n",
    "generate_mask(wavelength, SLMfield, target, \n",
    "              SLMwidth, SLMheight, \n",
    "              outPath = cwd, footer = movetag, \n",
    "              Niter = 100, tag = 'MATRIX')"
   ]
  },
  {
   "cell_type": "code",
   "execution_count": null,
   "metadata": {},
   "outputs": [],
   "source": [
    "wavelength = 488*nm\n",
    "\n",
    "[SLMfield, target, movetag] = target_pattern(wavelength,beamD,\n",
    "                                    fSLM,SLMpixel,SLMwidth,SLMheight,\n",
    "                                    dx,dz,MagAM,\n",
    "                                    tag='MATRIX',\n",
    "                                    movebeams_um=[0,0,0,0,0,0,0,0,0])\n",
    "\n",
    "generate_mask(wavelength, SLMfield, target, \n",
    "              SLMwidth, SLMheight, \n",
    "              outPath = cwd, footer = movetag, \n",
    "              Niter = 100, tag = 'MATRIX')"
   ]
  },
  {
   "cell_type": "code",
   "execution_count": null,
   "metadata": {},
   "outputs": [],
   "source": [
    "wavelength = 488*nm\n",
    "\n",
    "[SLMfield, target, movetag] = target_pattern(wavelength,beamD,\n",
    "                                    fSLM,SLMpixel,SLMwidth,SLMheight,\n",
    "                                    dx,dz,MagAM,\n",
    "                                    tag='MATRIX',\n",
    "                                    movebeams_um=[-3,-3,-3,\n",
    "                                                  0,0,0,\n",
    "                                                  3,3,3])\n",
    "\n",
    "generate_mask(wavelength, SLMfield, target, \n",
    "              SLMwidth, SLMheight, \n",
    "              outPath = cwd, footer = movetag, \n",
    "              Niter = 100, tag = 'MATRIX')"
   ]
  }
 ],
 "metadata": {
  "kernelspec": {
   "display_name": "Python 3 (ipykernel)",
   "language": "python",
   "name": "python3"
  },
  "language_info": {
   "codemirror_mode": {
    "name": "ipython",
    "version": 3
   },
   "file_extension": ".py",
   "mimetype": "text/x-python",
   "name": "python",
   "nbconvert_exporter": "python",
   "pygments_lexer": "ipython3",
   "version": "3.9.7"
  }
 },
 "nbformat": 4,
 "nbformat_minor": 4
}
