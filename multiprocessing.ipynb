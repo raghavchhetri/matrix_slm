{
 "cells": [
  {
   "cell_type": "markdown",
   "id": "a918bec5",
   "metadata": {},
   "source": [
    "### Multiprocessing"
   ]
  },
  {
   "cell_type": "code",
   "execution_count": 1,
   "id": "1c5fd314",
   "metadata": {},
   "outputs": [
    {
     "name": "stdout",
     "output_type": "stream",
     "text": [
      "Invoking __init__.py for matrixpack\n"
     ]
    }
   ],
   "source": [
    "from LightPipes import nm\n",
    "from functools import partial\n",
    "import matplotlib\n",
    "%matplotlib inline\n",
    "import pylab as plt\n",
    "import multiprocessing \n",
    "import maskfun\n",
    "import os\n",
    "import time"
   ]
  },
  {
   "cell_type": "code",
   "execution_count": 2,
   "id": "6dbb9252",
   "metadata": {},
   "outputs": [],
   "source": [
    "movebeams_ums=[[0,0,0,\n",
    "                0,0,0,\n",
    "                0,0,0],\n",
    "               [-2,-2,-2,\n",
    "                0,0,0,\n",
    "                2,2,2],\n",
    "               [-4,-4,-4,\n",
    "                0,0,0,\n",
    "                4,4,4],\n",
    "               [-6,-6,-6,\n",
    "                0,0,0,\n",
    "                6,6,6],\n",
    "               [2,2,2,\n",
    "                0,0,0,\n",
    "                -2,-2,-2],\n",
    "               [4,4,4,\n",
    "                0,0,0,\n",
    "                -4,-4,-4],\n",
    "               [6,6,6,\n",
    "                0,0,0,\n",
    "                -6,-6,-6],\n",
    "               [0,0,0,\n",
    "                0,0,0,\n",
    "                0,0,20],\n",
    "               [0,0,0,\n",
    "                0,0,0,\n",
    "                0,0,-20]]"
   ]
  },
  {
   "cell_type": "raw",
   "id": "fa3afa65",
   "metadata": {},
   "source": [
    "# multiprocessing\n",
    "t0 = time.time()\n",
    "if __name__ == '__main__':\n",
    "    pool = multiprocessing.Pool(processes=8)\n",
    "    pool.map(maskfun.mask, movebeams_ums)\n",
    "    pool.close()\n",
    "    pool.join()   \n",
    "print('Took', round(time.time()-t0,2), 'sec')\n",
    "\n",
    "#7 iterations took 254.3 sec"
   ]
  },
  {
   "cell_type": "code",
   "execution_count": 8,
   "id": "d1dee54c",
   "metadata": {},
   "outputs": [
    {
     "name": "stdout",
     "output_type": "stream",
     "text": [
      "done\n",
      "Took 662.73 sec\n"
     ]
    }
   ],
   "source": [
    "# multiprocessing\n",
    "t0 = time.time()\n",
    "if __name__ == '__main__':\n",
    "    pool = multiprocessing.Pool(processes=8)    \n",
    "    poolfun = partial(maskfun.mask, wavelength=488*nm, Niter=50, tag='MATRIX')\n",
    "    result_list = pool.map(poolfun, movebeams_ums)    \n",
    "    #pool.map(maskfun.mask, movebeams_ums)\n",
    "    pool.close()\n",
    "    pool.join()   \n",
    "print('Took', round(time.time()-t0,2), 'sec')\n",
    "\n",
    "#21 iterations took 662.73 sec"
   ]
  },
  {
   "cell_type": "code",
   "execution_count": null,
   "id": "f13c1e00",
   "metadata": {},
   "outputs": [],
   "source": [
    "# multiprocessing\n",
    "t0 = time.time()\n",
    "if __name__ == '__main__':\n",
    "    pool = multiprocessing.Pool(processes=8)    \n",
    "    poolfun = partial(maskfun.mask, wavelength=532*nm, Niter=50, tag='MATRIX')\n",
    "    result_list = pool.map(poolfun, movebeams_ums)    \n",
    "    #pool.map(maskfun.mask, movebeams_ums)\n",
    "    pool.close()\n",
    "    pool.join()   \n",
    "print('Took', round(time.time()-t0,2), 'sec')"
   ]
  },
  {
   "cell_type": "code",
   "execution_count": null,
   "id": "9c3f03d3",
   "metadata": {},
   "outputs": [],
   "source": [
    "# multiprocessing\n",
    "t0 = time.time()\n",
    "if __name__ == '__main__':\n",
    "    pool = multiprocessing.Pool(processes=8)    \n",
    "    poolfun = partial(maskfun.mask, wavelength=561*nm, Niter=50, tag='MATRIX')\n",
    "    result_list = pool.map(poolfun, movebeams_ums)    \n",
    "    #pool.map(maskfun.mask, movebeams_ums)\n",
    "    pool.close()\n",
    "    pool.join()   \n",
    "print('Took', round(time.time()-t0,2), 'sec')"
   ]
  },
  {
   "cell_type": "code",
   "execution_count": null,
   "id": "08623e22",
   "metadata": {},
   "outputs": [],
   "source": [
    "# multiprocessing\n",
    "t0 = time.time()\n",
    "if __name__ == '__main__':\n",
    "    pool = multiprocessing.Pool(processes=8)    \n",
    "    poolfun = partial(maskfun.mask, wavelength=631*nm, Niter=50, tag='MATRIX')\n",
    "    result_list = pool.map(poolfun, movebeams_ums)    \n",
    "    #pool.map(maskfun.mask, movebeams_ums)\n",
    "    pool.close()\n",
    "    pool.join()   \n",
    "print('Took', round(time.time()-t0,2), 'sec')"
   ]
  }
 ],
 "metadata": {
  "kernelspec": {
   "display_name": "Python 3 (ipykernel)",
   "language": "python",
   "name": "python3"
  },
  "language_info": {
   "codemirror_mode": {
    "name": "ipython",
    "version": 3
   },
   "file_extension": ".py",
   "mimetype": "text/x-python",
   "name": "python",
   "nbconvert_exporter": "python",
   "pygments_lexer": "ipython3",
   "version": "3.9.7"
  }
 },
 "nbformat": 4,
 "nbformat_minor": 5
}
